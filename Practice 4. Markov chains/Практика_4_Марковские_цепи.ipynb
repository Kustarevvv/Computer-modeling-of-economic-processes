{
  "nbformat": 4,
  "nbformat_minor": 0,
  "metadata": {
    "colab": {
      "provenance": []
    },
    "kernelspec": {
      "name": "python3",
      "display_name": "Python 3"
    },
    "language_info": {
      "name": "python"
    }
  },
  "cells": [
    {
      "cell_type": "code",
      "execution_count": null,
      "metadata": {
        "id": "KHrSIMHC6c5r"
      },
      "outputs": [],
      "source": [
        "import numpy as np\n",
        "import pandas as pd\n",
        "from scipy.linalg import null_space\n",
        "import math\n",
        "from tabulate import tabulate"
      ]
    },
    {
      "cell_type": "markdown",
      "source": [
        "Функции"
      ],
      "metadata": {
        "id": "uiQTViomPqUT"
      }
    },
    {
      "cell_type": "code",
      "source": [
        "#базовый датчик\n",
        "\n",
        "def LFSR(length, y):\n",
        "  p = 32\n",
        "  M = 2**(p-1)\n",
        "  a = 843314861\n",
        "  c = 453816693\n",
        "  M = pow(2, p - 1)\n",
        "  random_sample = []\n",
        "  for i in range(length):\n",
        "      y = (a * y + c) % M\n",
        "      random_sample.append(y / M)\n",
        "  return random_sample"
      ],
      "metadata": {
        "id": "6Y1JUWZURTJd"
      },
      "execution_count": null,
      "outputs": []
    },
    {
      "cell_type": "code",
      "source": [
        "#проверка матрицы интенсивности на корректность\n",
        "\n",
        "def Q_correct(Q):\n",
        "  errors = []\n",
        "  row_summs = np.sum(Q, axis=1)\n",
        "  Q_diag = np.diag(Q)\n",
        "  Q_not_diag = Q - np.diag(np.diag(Q))\n",
        "\n",
        "  if not np.allclose(row_summs, 0, rtol = 1e-12):\n",
        "    errors.append(\"Построчная сумма элементов матрицы интенсивности должна быть равна 0\")\n",
        "\n",
        "  if not np.all(Q_diag < 0):\n",
        "    errors.append(\"Диагональные элементы матрицы интенсивности должны быть отрицательными\")\n",
        "\n",
        "  if not np.all(Q_not_diag >= 0):\n",
        "    errors.append(\"Недиагональные элементы матрицы интенсивности должны быть >= 0\")\n",
        "\n",
        "  if errors:\n",
        "    raise ValueError(\"\\n\".join(errors))\n",
        "  return True"
      ],
      "metadata": {
        "id": "Tfb4OxGq8YD2"
      },
      "execution_count": null,
      "outputs": []
    },
    {
      "cell_type": "code",
      "source": [
        "#функция нахождения вектора финальных вероятностей\n",
        "\n",
        "def Pi(Q):\n",
        "  pi = null_space(Q.T).flatten()\n",
        "  pi = pi / np.sum(pi)\n",
        "  return pi"
      ],
      "metadata": {
        "id": "IbzFIBtIHBB8"
      },
      "execution_count": null,
      "outputs": []
    },
    {
      "cell_type": "code",
      "source": [
        "#Функция генерирования Марковской цепи\n",
        "\n",
        "def Markov_chain_gen(Q, N):\n",
        "\n",
        "  I=[x for x in range(len(Q))]\n",
        "\n",
        "  i = np.random.choice(I, p=Pi(Q))\n",
        "  t = 0\n",
        "  times = []\n",
        "  states = []\n",
        "\n",
        "  for x in range(N):\n",
        "    times.append(t)\n",
        "    a = LFSR(1, 12345454+x)\n",
        "    tao = np.log(a[0])/Q[i][i]\n",
        "    t = t + tao\n",
        "\n",
        "    p = []\n",
        "    next = []\n",
        "\n",
        "    for j in range(len(Q[i])):\n",
        "      if i == j:\n",
        "        continue\n",
        "      else:\n",
        "        p.append(-Q[i][j]/Q[i][i])\n",
        "        next.append(j)\n",
        "\n",
        "    states.append(i)\n",
        "    j = np.random.choice(next, p = p)\n",
        "    i = j\n",
        "\n",
        "  return states, times"
      ],
      "metadata": {
        "id": "rqUU5owpOrJn"
      },
      "execution_count": null,
      "outputs": []
    },
    {
      "cell_type": "code",
      "source": [
        "#Функция вычисления суммарного времени проведенного в каждом из состояний\n",
        "def Sum_time(states, times):\n",
        "\n",
        "  states_dictionary = dict.fromkeys(states, 0)\n",
        "\n",
        "  for i in range(N-1):\n",
        "    states_dictionary[states[i]] += times[i+1]-times[i]\n",
        "\n",
        "  return states_dictionary"
      ],
      "metadata": {
        "id": "qaxtQSom0fYf"
      },
      "execution_count": null,
      "outputs": []
    },
    {
      "cell_type": "code",
      "source": [
        "#Функция нормирования суммарного времени\n",
        "\n",
        "def Norm(states_dictionary):\n",
        "  norm_states_dictionary = states_dictionary\n",
        "  sum_d = sum(norm_states_dictionary.values())\n",
        "\n",
        "  for i in states_dictionary.keys():\n",
        "    norm_states_dictionary[i] = norm_states_dictionary[i]/sum_d\n",
        "\n",
        "  return norm_states_dictionary"
      ],
      "metadata": {
        "id": "zW91-4MnjOyw"
      },
      "execution_count": null,
      "outputs": []
    },
    {
      "cell_type": "code",
      "source": [
        "#Функция сравнения финальных вероятностей(pi) с относительным временем\n",
        "\n",
        "def Pi_and_norm_comparison(Q, norm_states_dictionary):\n",
        "  print()\n",
        "  arr = Pi(Q)\n",
        "\n",
        "  for i in range(len(Pi(Q))):\n",
        "    print(arr[i],norm_states_dictionary[i])"
      ],
      "metadata": {
        "id": "XJxW9t7FoKGK"
      },
      "execution_count": null,
      "outputs": []
    },
    {
      "cell_type": "code",
      "source": [
        "#Финальная функция\n",
        "\n",
        "def f(Q,N):\n",
        "\n",
        "  Q_correct(Q)\n",
        "\n",
        "  states, times = Markov_chain_gen(Q, N)\n",
        "  print(f\"\\n----------------------------------------------\\n{N} переходов цепи из состояния в состояние:\\n\")\n",
        "    # Выводим таблицу сравнений\n",
        "  table = [[\"Строка\", \"Позиция\", \"Время\"]]\n",
        "\n",
        "  for i, (state, time) in enumerate(zip(states[:5], times[:5]), 1):\n",
        "      table.append([i, state, time])\n",
        "\n",
        "  if len(states) > 10:\n",
        "      table.append([\"...\", \"...\", \"...\"])\n",
        "\n",
        "  for i, (state, time) in enumerate(zip(states[-5:], times[-5:]), len(states) - 4):\n",
        "      table.append([i, state, time])\n",
        "\n",
        "  print(tabulate(table, headers=\"firstrow\"))\n",
        "\n",
        "  states_dictionary = Sum_time(states, times)\n",
        "\n",
        "\n",
        "  print(\"\\n----------------------------------------------\\nСуммарное время пребывания цепи в каждом состоянии:\")\n",
        "\n",
        "  print(\"\\n\", {int(k): float(v) for k, v in states_dictionary.items()})\n",
        "\n",
        "  print(\"\\nСумма:\\n\", sum(states_dictionary.values()))\n",
        "\n",
        "  norm_states_dictionary = Norm(states_dictionary)\n",
        "  print(\"\\n----------------------------------------------\\nОтносительное время пребывания в каждом состоянии:\\n\\n\", {int(k): float(v) for k, v in norm_states_dictionary.items()})\n",
        "\n",
        "  print(\"\\n----------------------------------------------\\nСравнение относительного времени с финальными вероятностями:\")\n",
        "  Pi_and_norm_comparison(Q, norm_states_dictionary)"
      ],
      "metadata": {
        "id": "ImQGKG_cEtS9"
      },
      "execution_count": null,
      "outputs": []
    },
    {
      "cell_type": "markdown",
      "source": [
        "Реализация"
      ],
      "metadata": {
        "id": "sScG8X1WPk_v"
      }
    },
    {
      "cell_type": "code",
      "source": [
        "N = 10000"
      ],
      "metadata": {
        "id": "qNl17Vm1pB2N"
      },
      "execution_count": null,
      "outputs": []
    },
    {
      "cell_type": "code",
      "source": [
        "# #задаем матрицу интенсивности\n",
        "\n",
        "# Q = np.array([\n",
        "# [-3, 2, 1],\n",
        "# [0.5, -2, 1.5],\n",
        "# [3, 0, -3]])"
      ],
      "metadata": {
        "id": "3aMHbFmb7MRR"
      },
      "execution_count": null,
      "outputs": []
    },
    {
      "cell_type": "code",
      "source": [
        "Q = np.array([[-4, 1, 2, 1],\n",
        "              [8, -24, 8, 8],\n",
        "              [7, 8, -23, 8],\n",
        "              [1, 1, 1, -3]]) # Матрица инфинитезимальных коэффициентов"
      ],
      "metadata": {
        "id": "WFRnoV947KAS"
      },
      "execution_count": null,
      "outputs": []
    },
    {
      "cell_type": "code",
      "source": [
        "f(Q,N)"
      ],
      "metadata": {
        "colab": {
          "base_uri": "https://localhost:8080/"
        },
        "id": "iXEC3x-WpiiB",
        "outputId": "29a95e37-9527-4e81-8fb5-fd1fb29cc69f"
      },
      "execution_count": null,
      "outputs": [
        {
          "output_type": "stream",
          "name": "stdout",
          "text": [
            "\n",
            "----------------------------------------------\n",
            "10000 переходов цепи из состояния в состояние:\n",
            "\n",
            "Строка    Позиция    Время\n",
            "--------  ---------  -------------------\n",
            "1         0          0\n",
            "2         3          0.09423371899114655\n",
            "3         2          0.9417746153388618\n",
            "4         3          0.9744761567648585\n",
            "5         2          1.0231812857887757\n",
            "...       ...        ...\n",
            "9996      3          1618.6144895286404\n",
            "9997      1          1618.72710580233\n",
            "9998      0          1618.8206181119565\n",
            "9999      2          1618.9945551100375\n",
            "10000     0          1618.9995534407424\n",
            "\n",
            "----------------------------------------------\n",
            "Суммарное время пребывания цепи в каждом состоянии:\n",
            "\n",
            " {0: 606.5069957685307, 3: 790.7477053668847, 2: 119.83251427165632, 1: 101.91233803367064}\n",
            "\n",
            "Сумма:\n",
            " 1618.9995534407424\n",
            "\n",
            "----------------------------------------------\n",
            "Относительное время пребывания в каждом состоянии:\n",
            "\n",
            " {0: 0.3746183836058295, 3: 0.48841749442510096, 2: 0.07401639735908819, 1: 0.06294772460998135}\n",
            "\n",
            "----------------------------------------------\n",
            "Сравнение относительного времени с финальными вероятностями:\n",
            "\n",
            "0.3755868544600938 0.3746183836058295\n",
            "0.06103286384976525 0.06294772460998135\n",
            "0.07511737089201878 0.07401639735908819\n",
            "0.4882629107981222 0.48841749442510096\n"
          ]
        }
      ]
    }
  ]
}