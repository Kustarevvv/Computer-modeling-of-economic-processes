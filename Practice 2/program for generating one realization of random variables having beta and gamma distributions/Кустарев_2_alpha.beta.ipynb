{
  "nbformat": 4,
  "nbformat_minor": 0,
  "metadata": {
    "colab": {
      "provenance": []
    },
    "kernelspec": {
      "name": "python3",
      "display_name": "Python 3"
    },
    "language_info": {
      "name": "python"
    }
  },
  "cells": [
    {
      "cell_type": "markdown",
      "source": [
        "Импорты"
      ],
      "metadata": {
        "id": "qmHlcb5_Gl1J"
      }
    },
    {
      "cell_type": "code",
      "source": [
        "import matplotlib.pyplot as plt\n",
        "import numpy as np\n",
        "from scipy.stats import beta\n",
        "from scipy.stats import beta as scipy_beta\n",
        "from scipy.stats import chi2\n",
        "from scipy.stats import gamma\n",
        "import math\n",
        "import seaborn as sns"
      ],
      "metadata": {
        "id": "tcCr_c0WzDkF"
      },
      "execution_count": null,
      "outputs": []
    },
    {
      "cell_type": "markdown",
      "source": [
        "Блок с функциями"
      ],
      "metadata": {
        "id": "EeQ9KSNf7ezZ"
      }
    },
    {
      "cell_type": "code",
      "source": [
        "#базовый датчик\n",
        "\n",
        "def LFSR(length, y):\n",
        "  p = 32\n",
        "  M = 2**(p-1)\n",
        "  a = 843314861\n",
        "  c = 453816693\n",
        "  M = pow(2, p - 1)\n",
        "  random_sample = []\n",
        "  for i in range(length):\n",
        "      y = (a * y + c) % M\n",
        "      random_sample.append(y / M)\n",
        "  return random_sample"
      ],
      "metadata": {
        "id": "OzwlL25CKw5e"
      },
      "execution_count": null,
      "outputs": []
    },
    {
      "cell_type": "markdown",
      "source": [
        "Функции для бета распределения"
      ],
      "metadata": {
        "id": "U58PfH8ABs3z"
      }
    },
    {
      "cell_type": "code",
      "source": [
        "#генерирование одного значения случайной величины с бета распределением\n",
        "#m,v - параметры\n",
        "#у начальное значение для базового датчика, которое будет меняться, чтобы датчик не генерировал одинаковые массивы случайных чисел\n",
        "\n",
        "def beta_s(m, v, y, length = 1000):\n",
        "  E = []\n",
        "  if m > 0 and v > 0:\n",
        "    if isinstance(m, int) and isinstance(v, int):\n",
        "      random_sample = LFSR(m+v-1, y)\n",
        "      sorted_samples = np.sort(random_sample)\n",
        "      E = sorted_samples[m-1]\n",
        "      return(E)\n",
        "\n",
        "    else:\n",
        "      for a in range(100):\n",
        "        k_min = None\n",
        "        random_sample = LFSR(length, y + a)\n",
        "        for i in range(0, length // 2):\n",
        "          if (random_sample[2*i])**(1/m) + (random_sample[2*i+1])**(1/v) <= 1:\n",
        "            k_min = i\n",
        "            break\n",
        "          else:\n",
        "            continue\n",
        "        if k_min is not None:\n",
        "          E = (random_sample[2*k_min])**(1/m) / ((random_sample[2*k_min])**(1/m) + (random_sample[2*k_min+1])**(1/v))\n",
        "          return(E)\n",
        "\n",
        "        raise RuntimeError(\"Не удалось сгенерировать k_min за отведенное число попыток, измените параметры распределения, либо увеличте число попыток\")\n",
        "\n",
        "  raise ValueError(\"Параметры распредления должны быть положительными\")"
      ],
      "metadata": {
        "id": "sTbSbkxnibJw"
      },
      "execution_count": null,
      "outputs": []
    },
    {
      "cell_type": "code",
      "source": [
        "#генерирование значений случайной величины бета распределения\n",
        "\n",
        "def beta_sample(m, v, y, size):\n",
        "    return [beta_s(m, v, y+i) for i in range(size)]"
      ],
      "metadata": {
        "id": "zaoUGRsK3n-J"
      },
      "execution_count": null,
      "outputs": []
    },
    {
      "cell_type": "code",
      "source": [
        "#проверка соответствия бета распределению\n",
        "\n",
        "def beta_test(sample, alpha_param, beta_param):\n",
        "    data = sample\n",
        "    n = len(data)\n",
        "\n",
        "    # Разбиение на интервалы\n",
        "    num_bins = int(1 + 3.322 * np.log10(n))\n",
        "    observed_freq, bin_edges = np.histogram(data, bins=num_bins)\n",
        "\n",
        "    # Ожидаемые частоты по бета-распределению\n",
        "    expected_freq = []\n",
        "    for i in range(len(bin_edges) - 1):\n",
        "        cdf_lower = beta.cdf(bin_edges[i], alpha_param, beta_param)\n",
        "        cdf_upper = beta.cdf(bin_edges[i + 1], alpha_param, beta_param)\n",
        "        expected_freq.append((cdf_upper - cdf_lower) * n)\n",
        "\n",
        "    # Приводим сумму ожидаемых частот к сумме наблюдаемых, чтобы избежать предупреждения\n",
        "    expected_freq = np.array(expected_freq)\n",
        "    expected_freq *= n / expected_freq.sum()\n",
        "\n",
        "    # хи квадрат-статистика\n",
        "    chi2_stat = np.sum((observed_freq - expected_freq)**2 / expected_freq)\n",
        "\n",
        "    # Степени свободы\n",
        "    df = num_bins - 1 - 2\n",
        "    alpha = 0.05\n",
        "    chi2_critical = chi2.ppf(1 - alpha, df)\n",
        "    p_value = 1 - chi2.cdf(chi2_stat, df)\n",
        "\n",
        "    # Вывод результатов\n",
        "    print(f\"Статистика хи-квадрат: {chi2_stat:.4f}\")\n",
        "    print(f\"Критическое значение хи-квадрат: {chi2_critical:.4f}\")\n",
        "    print(f\"P-значение: {p_value:.4f}\")\n",
        "    if chi2_stat > chi2_critical:\n",
        "        print(\"Гипотеза о бета-распределении отвергается (χ² расч. > χ² крит.).\")\n",
        "    else:\n",
        "        print(\"Гипотеза о бета-распределении не отвергается (χ² расч. ≤ χ² крит.).\")"
      ],
      "metadata": {
        "id": "jlKdLvNDDO3R"
      },
      "execution_count": null,
      "outputs": []
    },
    {
      "cell_type": "code",
      "source": [
        "#функция сравнения теоретического и выборочного среденго и дисперсии для бетта-распределения\n",
        "\n",
        "def mean_and_var_beta(m, v, size):\n",
        "    beta = beta_sample(m, v, 12345454, size)\n",
        "    beta_mean = sum(beta)/len(beta)\n",
        "    E = m/(m+v)\n",
        "    sigma = (m*v)/((m+v)**2 * (m+v+1))\n",
        "\n",
        "    sum_sq = 0\n",
        "    for i in range(len(beta)):\n",
        "        sum_sq += (beta[i] - E)**2\n",
        "    beta_var = 1/(len(beta) - 1) * sum_sq\n",
        "\n",
        "    print(f\"Теоретическое среднее: {E:.3f}\")\n",
        "    print(f\"Выборочное среднее: {beta_mean:.3f}\")\n",
        "    print(f\"Отклонение среднего: {abs(beta_mean - E):.3f}\\n\")\n",
        "\n",
        "    print(f\"Теоретическая дисперсия: {sigma:.3f}\")\n",
        "    print(f\"Выборочная дисперсия: {beta_var:.3f}\")\n",
        "    print(f\"Отклонение дисперсии: {abs(beta_var - sigma):.3f}\")"
      ],
      "metadata": {
        "id": "dKsuBnDsH9hZ"
      },
      "execution_count": null,
      "outputs": []
    },
    {
      "cell_type": "code",
      "source": [
        "#(объединение всех предыдущих функций)\n",
        "#функция генерации случайной величины c бета-распределением и создание графиков, тест на соответствие бета-распределению\n",
        "\n",
        "def f_beta(m,v, y=12345454):\n",
        "\n",
        "  #генерирование значений случайной величины с бета распределением\n",
        "  sample = beta_sample(m,v,y,1000)\n",
        "\n",
        "  #строим график теоретической плотности распределения\n",
        "  x = np.linspace(0, 1, 500)\n",
        "  pdf = scipy_beta.pdf(x, m, v)\n",
        "  plt.plot(x, pdf, 'r--', lw=2, label='Теоретическая плотность')\n",
        "\n",
        "  #график функции распределения\n",
        "  plt.hist(sample, bins=40, density=True, alpha=0.6, color='blue', label='Сгенерированная выборка')\n",
        "  plt.title(f'Бета-распределение: μ={m}, ν={v}')\n",
        "  plt.xlabel('Значение')\n",
        "  plt.ylabel('Плотность')\n",
        "  plt.grid(True)\n",
        "  plt.legend()\n",
        "  plt.tight_layout()\n",
        "  plt.show()\n",
        "  print(\" \")\n",
        "  #проверка на соответствие бета распределению\n",
        "  beta_test(sample, m, v)\n",
        "  print(\" \")\n",
        "  #проверка выборочного/теоретического среднего и дисперсии\n",
        "  mean_and_var_beta(m, v, 1000)"
      ],
      "metadata": {
        "id": "sSSCagA3CZH_"
      },
      "execution_count": null,
      "outputs": []
    },
    {
      "cell_type": "markdown",
      "source": [
        "Функции для гамма распределения"
      ],
      "metadata": {
        "id": "2HIJqUffBz2J"
      }
    },
    {
      "cell_type": "code",
      "source": [
        "#функция генерации стандартной нормальной величины методом суммирования(для гамма-распределения в случае с полуцелым параметром распрделения)\n",
        "\n",
        "def norm(length):\n",
        "\n",
        "  length = length * 12\n",
        "  y = 12345464\n",
        "\n",
        "  A = LFSR(length, y)\n",
        "\n",
        "  zeta = math.sqrt(12/length)*(sum(A)- length/2)\n",
        "\n",
        "  A = LFSR(length, y)\n",
        "\n",
        "  A_new = []\n",
        "  for i in range(0, 12000, 12):\n",
        "    A_new.append(A[i:i+12])\n",
        "\n",
        "  zeta = []\n",
        "  for i in range(len(A_new)):\n",
        "    N = len(A_new[i])\n",
        "    zeta.append(math.sqrt(12/N)*(sum(A_new[i])- N/2))\n",
        "\n",
        "  zeta = np.array(zeta)\n",
        "\n",
        "  return zeta"
      ],
      "metadata": {
        "id": "PDko6wLSCPDn"
      },
      "execution_count": null,
      "outputs": []
    },
    {
      "cell_type": "code",
      "source": [
        "#функция генерации случайной величины с гамма распределением для целых чисел (1, 2, 3, ...)\n",
        "\n",
        "def E_instance(v, y, length):\n",
        "  random_samples = LFSR(length * v, y)\n",
        "  random_samples = np.array(random_samples).reshape(v, length)\n",
        "\n",
        "  E = -np.log(random_samples).sum(axis=0)\n",
        "  return E"
      ],
      "metadata": {
        "id": "uTaGxmUZCLyA"
      },
      "execution_count": null,
      "outputs": []
    },
    {
      "cell_type": "code",
      "source": [
        "#функция генерации для полуцелых чисел\n",
        "\n",
        "def E_half(v, y, length):\n",
        "  v_int = int(v)\n",
        "  E = E_instance(v_int, y, length)\n",
        "  N = norm(length)\n",
        "  E_half = E + N**2 / 2\n",
        "  return E_half\n"
      ],
      "metadata": {
        "id": "XU1mK_THCGdU"
      },
      "execution_count": null,
      "outputs": []
    },
    {
      "cell_type": "code",
      "source": [
        "#Генерирование с произвольным положительным параметром\n",
        "\n",
        "def E_positive(v, y, length):\n",
        "  B = beta_sample(1-(v%1), v%1, y, size=length)\n",
        "  B = np.array(B)\n",
        "  E_v = (B - 1) * -E_instance(1, y, length)\n",
        "  E = E_v + E_instance(int(v), y, length)\n",
        "  return E"
      ],
      "metadata": {
        "id": "cr0Wvb7xCFvy"
      },
      "execution_count": null,
      "outputs": []
    },
    {
      "cell_type": "code",
      "source": [
        "#Гамма-распределение для 3х случаев\n",
        "\n",
        "def gamma_s(v, y, length=1000):\n",
        "  if v>0:\n",
        "    if isinstance(v, int):# для целых чисел\n",
        "\n",
        "      return E_instance(v, y, length)\n",
        "\n",
        "    elif v % 1 == 0.5:#для полуцелых\n",
        "\n",
        "      return E_half(v, y, length)\n",
        "\n",
        "    else:#для произвольных положительных\n",
        "\n",
        "      return E_positive(v, y, length)\n",
        "  raise ValueError(\"Параметры распредления должны быть положительными\")"
      ],
      "metadata": {
        "id": "IKilxJepCCct"
      },
      "execution_count": null,
      "outputs": []
    },
    {
      "cell_type": "code",
      "source": [
        "#функция теста на соответствие гамма-распределению\n",
        "\n",
        "def gamma_test(alpha_param, beta_param=1):\n",
        "    data = gamma_s(alpha_param, beta_param, length=1000)\n",
        "    n = len(data)\n",
        "\n",
        "    # Разбиение на интервалы\n",
        "    num_bins = int(1 + 3.322 * np.log10(n))\n",
        "    observed_freq, bin_edges = np.histogram(data, bins=num_bins)\n",
        "\n",
        "    # Ожидаемые частоты по гамма-распределению\n",
        "    expected_freq = []\n",
        "    for i in range(len(bin_edges) - 1):\n",
        "        cdf_lower = gamma.cdf(bin_edges[i], alpha_param, scale=1/beta_param)\n",
        "        cdf_upper = gamma.cdf(bin_edges[i + 1], alpha_param, scale=1/beta_param)\n",
        "        expected_freq.append((cdf_upper - cdf_lower) * n)\n",
        "\n",
        "    # Приводим сумму ожидаемых частот к сумме наблюдаемых\n",
        "    expected_freq = np.array(expected_freq)\n",
        "    expected_freq *= n / expected_freq.sum()\n",
        "\n",
        "    # Хи-квадрат статистика\n",
        "    chi2_stat = np.sum((observed_freq - expected_freq)**2 / expected_freq)\n",
        "\n",
        "    # Степени свободы (вычитаем 2 за оцененные параметры)\n",
        "    df = num_bins - 1 - 2\n",
        "    alpha = 0.05\n",
        "    chi2_critical = chi2.ppf(1 - alpha, df)\n",
        "    p_value = 1 - chi2.cdf(chi2_stat, df)\n",
        "\n",
        "    # Вывод результатов\n",
        "    print(f\"Статистика хи-квадрат: {chi2_stat:.4f}\")\n",
        "    print(f\"Критическое значение хи-квадрат: {chi2_critical:.4f}\")\n",
        "    print(f\"P-значение: {p_value:.4f}\")\n",
        "    if chi2_stat > chi2_critical:\n",
        "        print(\"Гипотеза о гамма-распределении отвергается (χ² расч. > χ² крит.).\")\n",
        "    else:\n",
        "        print(\"Гипотеза о гамма-распределении не отвергается (χ² расч. ≤ χ² крит.).\")"
      ],
      "metadata": {
        "id": "sA6SBoY14E6h"
      },
      "execution_count": null,
      "outputs": []
    },
    {
      "cell_type": "code",
      "source": [
        "#функция сравнения теоретического и выборочного среденго и дисперсии для гамма-распределения\n",
        "\n",
        "def mean_and_var_gamma(v, t):\n",
        "    gamma = gamma_s(v, 12345454)\n",
        "    gamma_mean = sum(gamma)/len(gamma)\n",
        "    E = v*t\n",
        "    sigma = v * t**2\n",
        "\n",
        "    sum_sq = 0\n",
        "    for i in range(len(gamma)):\n",
        "        sum_sq += (gamma[i] - E)**2\n",
        "    gamma_var = 1/(len(gamma) - 1) * sum_sq\n",
        "\n",
        "    print(f\"Теоретическое среднее: {E:.3f}\")\n",
        "    print(f\"Выборочное среднее: {gamma_mean:.3f}\")\n",
        "    print(f\"Отклонение среднего: {abs(gamma_mean - E):.3f}\\n\")\n",
        "\n",
        "    print(f\"Теоретическая дисперсия: {sigma:.3f}\")\n",
        "    print(f\"Выборочная дисперсия: {gamma_var:.3f}\")\n",
        "    print(f\"Отклонение дисперсии: {abs(gamma_var - sigma):.3f}\")"
      ],
      "metadata": {
        "id": "4_CSlxWo86qI"
      },
      "execution_count": null,
      "outputs": []
    },
    {
      "cell_type": "code",
      "source": [
        "#(объединение всех предыдущих функций)\n",
        "#функция генерации случайной величины c гамма распределением и создание графмков, тест на соответствие бета-распределению\n",
        "\n",
        "def f_gamma(v, t):\n",
        "  if t == 1:\n",
        "    #Генерация случайной величины с гамма распределением\n",
        "    sample_gamma = gamma_s(v, 12345454)\n",
        "\n",
        "    #графики теоретической плотности гамма-распределения и сгенерированной\n",
        "    k = v\n",
        "    theta = t\n",
        "\n",
        "    x = np.linspace(0, max(sample_gamma)//1, 500)\n",
        "\n",
        "    plt.figure(figsize=(10, 6))\n",
        "\n",
        "    y = gamma.pdf(x, a=k, scale=theta)\n",
        "    plt.plot(x, y, color ='red', label=f'k={k}, θ={theta}')\n",
        "    plt.hist(sample_gamma, bins=40, density=True, alpha=0.6, color='blue', label='Сгенерированная выборка')\n",
        "\n",
        "    plt.title('Гамма-распределение')\n",
        "    plt.xlabel('x')\n",
        "    plt.ylabel('Плотность вероятности')\n",
        "    plt.legend()\n",
        "    plt.grid(True)\n",
        "    plt.show()\n",
        "\n",
        "    print(\" \")\n",
        "    gamma_test(v)\n",
        "    print(\" \")\n",
        "    mean_and_var_gamma(v,t)\n",
        "  else:\n",
        "    raise ValueError(\"Данная функция рассматривает только случаи стандартного гамма-распределения с параметром scale: θ = 1. Вы ввели либо t < 0, либо t != 1. Пожалуйста поменяйте значение t на 1\")"
      ],
      "metadata": {
        "id": "RiFplhCGIFrG"
      },
      "execution_count": null,
      "outputs": []
    },
    {
      "cell_type": "markdown",
      "source": [
        "\n",
        "Программа"
      ],
      "metadata": {
        "id": "FzH5ux9OERsE"
      }
    },
    {
      "cell_type": "markdown",
      "source": [
        "Бета распределение"
      ],
      "metadata": {
        "id": "IpK1lA567-77"
      }
    },
    {
      "cell_type": "code",
      "source": [
        "#генерирование случайной величины с бета-распределением\n",
        "#задаем параметры для бета распределения\n",
        "f_beta(2.3,2.1)"
      ],
      "metadata": {
        "colab": {
          "base_uri": "https://localhost:8080/",
          "height": 727
        },
        "id": "O-gYRLuPDf3j",
        "outputId": "d9de8029-4354-4306-eb5c-c9f46106c867"
      },
      "execution_count": null,
      "outputs": [
        {
          "output_type": "display_data",
          "data": {
            "text/plain": [
              "<Figure size 640x480 with 1 Axes>"
            ],
            "image/png": "[encoded data removed]"
          },
          "metadata": {}
        },
        {
          "output_type": "stream",
          "name": "stdout",
          "text": [
            " \n",
            "Статистика хи-квадрат: 1.6011\n",
            "Критическое значение хи-квадрат: 14.0671\n",
            "P-значение: 0.9786\n",
            "Гипотеза о бета-распределении не отвергается (χ² расч. ≤ χ² крит.).\n",
            " \n",
            "Теоретическое среднее: 0.523\n",
            "Выборочное среднее: 0.525\n",
            "Отклонение среднего: 0.002\n",
            "\n",
            "Теоретическая дисперсия: 0.046\n",
            "Выборочная дисперсия: 0.046\n",
            "Отклонение дисперсии: 0.000\n"
          ]
        }
      ]
    },
    {
      "cell_type": "markdown",
      "source": [
        "Гамма-распределение"
      ],
      "metadata": {
        "id": "r3sAlTcErcZx"
      }
    },
    {
      "cell_type": "code",
      "source": [
        "#генерирование случайной величины с гамма-распределением\n",
        "#задаем параметры гамма-распределения\n",
        "#параметр scale: θ фиксирован как 1, так как рассматриваются только случаи стандартного гамма-распределения\n",
        "\n",
        "f_gamma(5,1)"
      ],
      "metadata": {
        "colab": {
          "base_uri": "https://localhost:8080/",
          "height": 804
        },
        "id": "ChmBhYq9CH0-",
        "outputId": "260f78e0-52b1-435e-d859-4c96f00173a2"
      },
      "execution_count": null,
      "outputs": [
        {
          "output_type": "display_data",
          "data": {
            "text/plain": [
              "<Figure size 1000x600 with 1 Axes>"
            ],
            "image/png": "[encoded data removed]"
          },
          "metadata": {}
        },
        {
          "output_type": "stream",
          "name": "stdout",
          "text": [
            " \n",
            "Статистика хи-квадрат: 7.2347\n",
            "Критическое значение хи-квадрат: 14.0671\n",
            "P-значение: 0.4049\n",
            "Гипотеза о гамма-распределении не отвергается (χ² расч. ≤ χ² крит.).\n",
            " \n",
            "Теоретическое среднее: 5.000\n",
            "Выборочное среднее: 4.931\n",
            "Отклонение среднего: 0.069\n",
            "\n",
            "Теоретическая дисперсия: 5.000\n",
            "Выборочная дисперсия: 4.855\n",
            "Отклонение дисперсии: 0.145\n"
          ]
        }
      ]
    }
  ]
}